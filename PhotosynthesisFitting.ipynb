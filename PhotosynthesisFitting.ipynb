{
 "cells": [
  {
   "metadata": {
    "ExecuteTime": {
     "end_time": "2025-05-08T03:20:22.621604Z",
     "start_time": "2025-05-08T03:20:20.468784Z"
    }
   },
   "cell_type": "code",
   "source": [
    "# Process ACi Data and Verify the Printed Curves are Those Desired to Fit\n",
    "\n",
    "################# User Settings #################\n",
    "\n",
    "fitting_group_folder_path = \"photorch/data/fvcb/curves/iceberg\"\n",
    "species_to_fit = \"Iceberg\"\n",
    "species_variety = \"Calmar\"\n",
    "\n",
    "#################################################\n",
    "from photorch import *\n",
    "compiledDataPath = util.compileACiFiles(fitting_group_folder_path)\n"
   ],
   "outputs": [
    {
     "name": "stdout",
     "output_type": "stream",
     "text": [
      "Files compiled:\n",
      "photorch/data/fvcb/curves/iceberg/2025-01-23-1314_Q2000_T39.txt\n",
      "photorch/data/fvcb/curves/iceberg/2025-01-23-1237_Q2000_T33.txt\n",
      "photorch/data/fvcb/curves/iceberg/2025-01-23-1351_T25_Q200.txt\n",
      "photorch/data/fvcb/curves/iceberg/2025-01-23-1403_T25_Q0.txt\n",
      "photorch/data/fvcb/curves/iceberg/2025-01-23-1327_T25_1200.txt\n",
      "photorch/data/fvcb/curves/iceberg/2025-01-23-1304_T25_Q2000.txt\n",
      "photorch/data/fvcb/curves/iceberg/2025-01-23-1254_Q2000_T36.txt\n",
      "photorch/data/fvcb/curves/iceberg/2025-01-23-1214_Q2000_T30.txt\n",
      "photorch/data/fvcb/curves/iceberg/2025-01-23-1338_T25_Q600.txt\n",
      "photorch/data/fvcb/curves/iceberg/2025-01-23-1315_T25_Q1600.txt\n",
      "photorch/data/fvcb/curves/iceberg/2025-01-23-1142_Q2000_T27.txt\n",
      "Saved compiled curves to photorch/data/fvcb/curves/iceberg/curves.csv.\n"
     ]
    }
   ],
   "execution_count": 1
  },
  {
   "metadata": {},
   "cell_type": "code",
   "source": [
    "fvcb# Fit Compiled Data to FvCB Model using PhoTorch, Save Parameters, and Plot Results\n",
    "\n",
    "######### User Settings ##########\n",
    "LightResponseType = 2\n",
    "TemperatureResponseType = 2\n",
    "Fitgm = False\n",
    "FitGamma = False\n",
    "FitKc = False\n",
    "FitKo = False\n",
    "saveParameters = True\n",
    "plotResultingFit = True\n",
    "#### Advanced Hyper Parameters ####\n",
    "learningRate = 0.08\n",
    "iterations = 10000\n",
    "###################################\n",
    "\n",
    "import torch\n",
    "import pandas as pd\n",
    "df = pd.read_csv(fitting_group_folder_path+\"/curves.csv\")\n",
    "lcd = fvcb.initLicordata(df,preprocess=True)\n",
    "device_fit = 'cpu'\n",
    "lcd.todevice(torch.device(device_fit))\n",
    "\n",
    "if(species_variety==\"\"):\n",
    "    print(f\"Fitting {species_to_fit}\")\n",
    "else:\n",
    "    print(f\"Fitting {species_to_fit} var. {species_variety}\")\n",
    "\n",
    "fvcbm = fvcb.model(lcd, LightResp_type=LightResponseType, TempResp_type=TemperatureResponseType, onefit=True, fitgamma = FitGamma, fitKc=FitKc, fitKo=FitKo, fitgm=Fitgm)\n",
    "fitresult = fvcb.fit(fvcbm, learn_rate= learningRate, maxiteration = iterations, minloss= 1, recordweightsTF=False)\n",
    "fvcbm = fitresult.model\n",
    "\n",
    "util.printFvCBParameters(fvcbm,LightResponseType,TemperatureResponseType,Fitgm,FitGamma,FitKc,FitKo)\n",
    "if(saveParameters):\n",
    "    parameterPath = util.saveFvCBParametersToFile(species_to_fit,species_variety,fvcbm,LightResponseType,TemperatureResponseType,Fitgm,FitGamma,FitKc,FitKo)\n",
    "if(plotResultingFit):\n",
    "    util.plotFvCBModelFit(species_to_fit,species_variety,parameterPath,compiledDataPath)"
   ],
   "outputs": [],
   "execution_count": null
  }
 ],
 "metadata": {
  "kernelspec": {
   "display_name": "Python 3 (ipykernel)",
   "language": "python",
   "name": "python3"
  },
  "language_info": {
   "codemirror_mode": {
    "name": "ipython",
    "version": 3
   },
   "file_extension": ".py",
   "mimetype": "text/x-python",
   "name": "python",
   "nbconvert_exporter": "python",
   "pygments_lexer": "ipython3",
   "version": "3.12.7"
  }
 },
 "nbformat": 4,
 "nbformat_minor": 4
}
